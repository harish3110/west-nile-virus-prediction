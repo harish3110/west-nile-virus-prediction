{
 "cells": [
  {
   "cell_type": "code",
   "execution_count": 2,
   "metadata": {},
   "outputs": [],
   "source": [
    "from fastai.tabular.all import *\n",
    "import glob\n",
    "\n",
    "import warnings\n",
    "warnings.filterwarnings('ignore')"
   ]
  },
  {
   "cell_type": "markdown",
   "metadata": {},
   "source": [
    "### Dataset Download"
   ]
  },
  {
   "cell_type": "code",
   "execution_count": 17,
   "metadata": {},
   "outputs": [],
   "source": [
    "comp_name = 'predict-west-nile-virus'\n",
    "path = Path(f'/home/harish3110/Desktop/fastchai/{comp_name}')\n",
    "path.mkdir(exist_ok=True)\n",
    "\n",
    "dset_path = (path/'input')\n",
    "dset_path.mkdir(exist_ok=True)"
   ]
  },
  {
   "cell_type": "code",
   "execution_count": 18,
   "metadata": {},
   "outputs": [
    {
     "name": "stdout",
     "output_type": "stream",
     "text": [
      "/home/harish3110/Desktop/fastchai/predict-west-nile-virus/input\n",
      "Downloading predict-west-nile-virus.zip to /home/harish3110/Desktop/fastchai/predict-west-nile-virus/input\n",
      " 83%|███████████████████████████████▋      | 12.0M/14.4M [00:00<00:00, 9.16MB/s]\n",
      "100%|██████████████████████████████████████| 14.4M/14.4M [00:00<00:00, 16.8MB/s]\n"
     ]
    }
   ],
   "source": [
    "%cd {dset_path}\n",
    "!kaggle competitions download -c {comp_name}\n",
    "!unzip -qq {comp_name + '.zip'} \n",
    "!rm {comp_name + '.zip'} "
   ]
  },
  {
   "cell_type": "code",
   "execution_count": 19,
   "metadata": {},
   "outputs": [
    {
     "name": "stdout",
     "output_type": "stream",
     "text": [
      "Unzipped dataset and files.\n"
     ]
    }
   ],
   "source": [
    "zips = glob.glob(\"*.zip\")\n",
    "\n",
    "for f in zips:\n",
    "    !unzip -qq {f} \n",
    "    !rm {f}\n",
    "print('Unzipped dataset and files.')"
   ]
  },
  {
   "cell_type": "markdown",
   "metadata": {},
   "source": [
    "### Basic EDA"
   ]
  },
  {
   "cell_type": "code",
   "execution_count": null,
   "metadata": {},
   "outputs": [],
   "source": []
  }
 ],
 "metadata": {
  "kernelspec": {
   "display_name": "fastai",
   "language": "python",
   "name": "fastai"
  },
  "language_info": {
   "codemirror_mode": {
    "name": "ipython",
    "version": 3
   },
   "file_extension": ".py",
   "mimetype": "text/x-python",
   "name": "python",
   "nbconvert_exporter": "python",
   "pygments_lexer": "ipython3",
   "version": "3.8.5"
  }
 },
 "nbformat": 4,
 "nbformat_minor": 2
}
